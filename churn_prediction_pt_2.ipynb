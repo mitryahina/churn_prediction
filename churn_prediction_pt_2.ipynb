{
  "nbformat": 4,
  "nbformat_minor": 0,
  "metadata": {
    "colab": {
      "name": "churn prediction pt 2.ipynb",
      "provenance": [],
      "collapsed_sections": []
    },
    "kernelspec": {
      "name": "python3",
      "display_name": "Python 3"
    }
  },
  "cells": [
    {
      "cell_type": "markdown",
      "metadata": {
        "id": "-18hVLjno0dS"
      },
      "source": [
        "## Set up the environment"
      ]
    },
    {
      "cell_type": "code",
      "metadata": {
        "id": "a3AM6Wpq1KT_",
        "colab": {
          "base_uri": "https://localhost:8080/",
          "height": 200
        },
        "outputId": "0c471eeb-8d10-48f3-f077-814856343bf9"
      },
      "source": [
        " !pip install kaggle --upgrade\n",
        " "
      ],
      "execution_count": null,
      "outputs": [
        {
          "output_type": "stream",
          "text": [
            "Requirement already up-to-date: kaggle in /usr/local/lib/python3.6/dist-packages (1.5.6)\n",
            "Requirement already satisfied, skipping upgrade: urllib3<1.25,>=1.21.1 in /usr/local/lib/python3.6/dist-packages (from kaggle) (1.24.3)\n",
            "Requirement already satisfied, skipping upgrade: certifi in /usr/local/lib/python3.6/dist-packages (from kaggle) (2020.4.5.1)\n",
            "Requirement already satisfied, skipping upgrade: tqdm in /usr/local/lib/python3.6/dist-packages (from kaggle) (4.41.1)\n",
            "Requirement already satisfied, skipping upgrade: python-slugify in /usr/local/lib/python3.6/dist-packages (from kaggle) (4.0.0)\n",
            "Requirement already satisfied, skipping upgrade: python-dateutil in /usr/local/lib/python3.6/dist-packages (from kaggle) (2.8.1)\n",
            "Requirement already satisfied, skipping upgrade: six>=1.10 in /usr/local/lib/python3.6/dist-packages (from kaggle) (1.12.0)\n",
            "Requirement already satisfied, skipping upgrade: requests in /usr/local/lib/python3.6/dist-packages (from kaggle) (2.23.0)\n",
            "Requirement already satisfied, skipping upgrade: text-unidecode>=1.3 in /usr/local/lib/python3.6/dist-packages (from python-slugify->kaggle) (1.3)\n",
            "Requirement already satisfied, skipping upgrade: chardet<4,>=3.0.2 in /usr/local/lib/python3.6/dist-packages (from requests->kaggle) (3.0.4)\n",
            "Requirement already satisfied, skipping upgrade: idna<3,>=2.5 in /usr/local/lib/python3.6/dist-packages (from requests->kaggle) (2.9)\n"
          ],
          "name": "stdout"
        }
      ]
    },
    {
      "cell_type": "code",
      "metadata": {
        "id": "DNcsKOAH4Iye",
        "colab": {
          "resources": {
            "http://localhost:8080/nbextensions/google.colab/files.js": {
              "data": "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",
              "ok": true,
              "headers": [
                [
                  "content-type",
                  "application/javascript"
                ]
              ],
              "status": 200,
              "status_text": ""
            }
          },
          "base_uri": "https://localhost:8080/",
          "height": 73
        },
        "outputId": "71b1bed4-f12c-43a7-f848-ffb4c8b53ca4"
      },
      "source": [
        "# Upload kaggle.json\n",
        "from google.colab import files\n",
        "files.upload()\n",
        "!mkdir -p ~/.kaggle\n",
        "!cp kaggle.json ~/.kaggle/"
      ],
      "execution_count": null,
      "outputs": [
        {
          "output_type": "display_data",
          "data": {
            "text/html": [
              "\n",
              "     <input type=\"file\" id=\"files-05e20a72-8ad3-4232-a5a3-7c237ebbdf17\" name=\"files[]\" multiple disabled />\n",
              "     <output id=\"result-05e20a72-8ad3-4232-a5a3-7c237ebbdf17\">\n",
              "      Upload widget is only available when the cell has been executed in the\n",
              "      current browser session. Please rerun this cell to enable.\n",
              "      </output>\n",
              "      <script src=\"/nbextensions/google.colab/files.js\"></script> "
            ],
            "text/plain": [
              "<IPython.core.display.HTML object>"
            ]
          },
          "metadata": {
            "tags": []
          }
        },
        {
          "output_type": "stream",
          "text": [
            "Saving kaggle.json to kaggle.json\n"
          ],
          "name": "stdout"
        }
      ]
    },
    {
      "cell_type": "code",
      "metadata": {
        "id": "_VqxYD024LMe",
        "colab": {
          "base_uri": "https://localhost:8080/",
          "height": 550
        },
        "outputId": "bb6c4f34-a985-42ac-ee60-d0136068d180"
      },
      "source": [
        "!kaggle competitions download -c kkbox-churn-prediction-challenge"
      ],
      "execution_count": null,
      "outputs": [
        {
          "output_type": "stream",
          "text": [
            "Warning: Your Kaggle API key is readable by other users on this system! To fix this, you can run 'chmod 600 /root/.kaggle/kaggle.json'\n",
            "Warning: Looks like you're using an outdated API Version, please consider updating (server 1.5.6 / client 1.5.4)\n",
            "Downloading user_logs_v2.csv.7z to /content\n",
            " 98% 641M/654M [00:11<00:00, 53.3MB/s]\n",
            "100% 654M/654M [00:11<00:00, 57.5MB/s]\n",
            "Downloading WSDMChurnLabeller.scala to /content\n",
            "  0% 0.00/6.88k [00:00<?, ?B/s]\n",
            "100% 6.88k/6.88k [00:00<00:00, 7.26MB/s]\n",
            "Downloading members_v3.csv.7z to /content\n",
            " 97% 224M/231M [00:03<00:00, 75.9MB/s]\n",
            "100% 231M/231M [00:03<00:00, 64.8MB/s]\n",
            "Downloading transactions_v2.csv.7z to /content\n",
            " 71% 33.0M/46.6M [00:00<00:00, 18.7MB/s]\n",
            "100% 46.6M/46.6M [00:00<00:00, 50.6MB/s]\n",
            "Downloading train.csv.7z to /content\n",
            " 66% 21.0M/32.0M [00:00<00:00, 19.8MB/s]\n",
            "100% 32.0M/32.0M [00:00<00:00, 43.8MB/s]\n",
            "Downloading train_v2.csv.7z to /content\n",
            " 38% 12.0M/31.3M [00:00<00:01, 16.6MB/s]\n",
            "100% 31.3M/31.3M [00:00<00:00, 53.3MB/s]\n",
            "Downloading sample_submission_zero.csv.7z to /content\n",
            " 45% 14.0M/31.3M [00:00<00:01, 14.1MB/s]\n",
            "100% 31.3M/31.3M [00:00<00:00, 45.9MB/s]\n",
            "Downloading user_logs.csv.7z to /content\n",
            "100% 6.64G/6.65G [02:03<00:00, 64.5MB/s]\n",
            "100% 6.65G/6.65G [02:03<00:00, 57.8MB/s]\n",
            "Downloading sample_submission_v2.csv.7z to /content\n",
            " 51% 15.0M/29.2M [00:00<00:01, 14.0MB/s]\n",
            "100% 29.2M/29.2M [00:00<00:00, 42.8MB/s]\n",
            "Downloading transactions.csv.7z to /content\n",
            " 99% 666M/675M [00:10<00:00, 67.4MB/s]\n",
            "100% 675M/675M [00:10<00:00, 64.5MB/s]\n"
          ],
          "name": "stdout"
        }
      ]
    },
    {
      "cell_type": "code",
      "metadata": {
        "id": "eZ34GKBB4Rh2",
        "colab": {
          "base_uri": "https://localhost:8080/",
          "height": 372
        },
        "outputId": "45772c55-53a0-4db0-db0a-5580f6eb98ab"
      },
      "source": [
        "!pip install pyunpack\n",
        "!pip install patool"
      ],
      "execution_count": null,
      "outputs": [
        {
          "output_type": "stream",
          "text": [
            "Collecting pyunpack\n",
            "  Downloading https://files.pythonhosted.org/packages/33/fd/4b64817a1d82df78553ceb1bfc5a2d7ac162da8667be586430fab9db5deb/pyunpack-0.2.1-py2.py3-none-any.whl\n",
            "Collecting entrypoint2\n",
            "  Downloading https://files.pythonhosted.org/packages/46/0a/6156f1bc14a44094cff75bb6ecefe1f8e8a12cfff66379ba3d52d0916c49/entrypoint2-0.2.1-py2.py3-none-any.whl\n",
            "Collecting easyprocess\n",
            "  Downloading https://files.pythonhosted.org/packages/48/3c/75573613641c90c6d094059ac28adb748560d99bd27ee6f80cce398f404e/EasyProcess-0.3-py2.py3-none-any.whl\n",
            "Collecting argparse\n",
            "  Downloading https://files.pythonhosted.org/packages/f2/94/3af39d34be01a24a6e65433d19e107099374224905f1e0cc6bbe1fd22a2f/argparse-1.4.0-py2.py3-none-any.whl\n",
            "Installing collected packages: argparse, entrypoint2, easyprocess, pyunpack\n",
            "Successfully installed argparse-1.4.0 easyprocess-0.3 entrypoint2-0.2.1 pyunpack-0.2.1\n"
          ],
          "name": "stdout"
        },
        {
          "output_type": "display_data",
          "data": {
            "application/vnd.colab-display-data+json": {
              "pip_warning": {
                "packages": [
                  "argparse"
                ]
              }
            }
          },
          "metadata": {
            "tags": []
          }
        },
        {
          "output_type": "stream",
          "text": [
            "Collecting patool\n",
            "\u001b[?25l  Downloading https://files.pythonhosted.org/packages/43/94/52243ddff508780dd2d8110964320ab4851134a55ab102285b46e740f76a/patool-1.12-py2.py3-none-any.whl (77kB)\n",
            "\r\u001b[K     |████▎                           | 10kB 17.7MB/s eta 0:00:01\r\u001b[K     |████████▌                       | 20kB 1.7MB/s eta 0:00:01\r\u001b[K     |████████████▊                   | 30kB 2.2MB/s eta 0:00:01\r\u001b[K     |█████████████████               | 40kB 2.5MB/s eta 0:00:01\r\u001b[K     |█████████████████████▏          | 51kB 1.9MB/s eta 0:00:01\r\u001b[K     |█████████████████████████▍      | 61kB 2.2MB/s eta 0:00:01\r\u001b[K     |█████████████████████████████▋  | 71kB 2.4MB/s eta 0:00:01\r\u001b[K     |████████████████████████████████| 81kB 2.2MB/s \n",
            "\u001b[?25hInstalling collected packages: patool\n",
            "Successfully installed patool-1.12\n"
          ],
          "name": "stdout"
        }
      ]
    },
    {
      "cell_type": "code",
      "metadata": {
        "id": "yGEXakiU4ZBO"
      },
      "source": [
        "from pyunpack import Archive\n",
        "Archive('train.csv.7z').extractall(\"/content/\")\n",
        "Archive('members_v3.csv.7z').extractall(\"/content/\")\n",
        "Archive('transactions.csv.7z').extractall(\"/content/\")"
      ],
      "execution_count": null,
      "outputs": []
    },
    {
      "cell_type": "code",
      "metadata": {
        "id": "XFEGB0SL4aD4"
      },
      "source": [
        "import pandas as pd\n",
        "df_train = pd.read_csv('train.csv')\n",
        "members = pd.read_csv('members_v3.csv')\n",
        "transactions = pd.read_csv('transactions.csv')"
      ],
      "execution_count": null,
      "outputs": []
    },
    {
      "cell_type": "code",
      "metadata": {
        "id": "RElU9t2u_qBe"
      },
      "source": [
        "# 65 % - gender unknown. Drop - too many nulls\n",
        "members.drop('gender', axis=1, inplace=True) "
      ],
      "execution_count": null,
      "outputs": []
    },
    {
      "cell_type": "code",
      "metadata": {
        "id": "zPN8FjgfgLsg",
        "colab": {
          "base_uri": "https://localhost:8080/",
          "height": 407
        },
        "outputId": "cd196bce-3f1b-4b35-aa57-d2b01168cbc2"
      },
      "source": [
        "members"
      ],
      "execution_count": null,
      "outputs": [
        {
          "output_type": "execute_result",
          "data": {
            "text/html": [
              "<div>\n",
              "<style scoped>\n",
              "    .dataframe tbody tr th:only-of-type {\n",
              "        vertical-align: middle;\n",
              "    }\n",
              "\n",
              "    .dataframe tbody tr th {\n",
              "        vertical-align: top;\n",
              "    }\n",
              "\n",
              "    .dataframe thead th {\n",
              "        text-align: right;\n",
              "    }\n",
              "</style>\n",
              "<table border=\"1\" class=\"dataframe\">\n",
              "  <thead>\n",
              "    <tr style=\"text-align: right;\">\n",
              "      <th></th>\n",
              "      <th>msno</th>\n",
              "      <th>city</th>\n",
              "      <th>bd</th>\n",
              "      <th>registered_via</th>\n",
              "      <th>registration_init_time</th>\n",
              "    </tr>\n",
              "  </thead>\n",
              "  <tbody>\n",
              "    <tr>\n",
              "      <th>0</th>\n",
              "      <td>Rb9UwLQTrxzBVwCB6+bCcSQWZ9JiNLC9dXtM1oEsZA8=</td>\n",
              "      <td>1</td>\n",
              "      <td>0</td>\n",
              "      <td>11</td>\n",
              "      <td>20110911</td>\n",
              "    </tr>\n",
              "    <tr>\n",
              "      <th>1</th>\n",
              "      <td>+tJonkh+O1CA796Fm5X60UMOtB6POHAwPjbTRVl/EuU=</td>\n",
              "      <td>1</td>\n",
              "      <td>0</td>\n",
              "      <td>7</td>\n",
              "      <td>20110914</td>\n",
              "    </tr>\n",
              "    <tr>\n",
              "      <th>2</th>\n",
              "      <td>cV358ssn7a0f7jZOwGNWS07wCKVqxyiImJUX6xcIwKw=</td>\n",
              "      <td>1</td>\n",
              "      <td>0</td>\n",
              "      <td>11</td>\n",
              "      <td>20110915</td>\n",
              "    </tr>\n",
              "    <tr>\n",
              "      <th>3</th>\n",
              "      <td>9bzDeJP6sQodK73K5CBlJ6fgIQzPeLnRl0p5B77XP+g=</td>\n",
              "      <td>1</td>\n",
              "      <td>0</td>\n",
              "      <td>11</td>\n",
              "      <td>20110915</td>\n",
              "    </tr>\n",
              "    <tr>\n",
              "      <th>4</th>\n",
              "      <td>WFLY3s7z4EZsieHCt63XrsdtfTEmJ+2PnnKLH5GY4Tk=</td>\n",
              "      <td>6</td>\n",
              "      <td>32</td>\n",
              "      <td>9</td>\n",
              "      <td>20110915</td>\n",
              "    </tr>\n",
              "    <tr>\n",
              "      <th>...</th>\n",
              "      <td>...</td>\n",
              "      <td>...</td>\n",
              "      <td>...</td>\n",
              "      <td>...</td>\n",
              "      <td>...</td>\n",
              "    </tr>\n",
              "    <tr>\n",
              "      <th>6769468</th>\n",
              "      <td>VSGkb3hyBRUtb/b1MQUZbvOkktS3vKLnhMHW0CF8eyU=</td>\n",
              "      <td>1</td>\n",
              "      <td>0</td>\n",
              "      <td>7</td>\n",
              "      <td>20151020</td>\n",
              "    </tr>\n",
              "    <tr>\n",
              "      <th>6769469</th>\n",
              "      <td>nWjH7glPkZ7jOVaCRwwjlpmp0T1hSWdv8hMJxiWCwKc=</td>\n",
              "      <td>1</td>\n",
              "      <td>0</td>\n",
              "      <td>7</td>\n",
              "      <td>20151020</td>\n",
              "    </tr>\n",
              "    <tr>\n",
              "      <th>6769470</th>\n",
              "      <td>GH+b5+1tlv7ZZXsA8upBzVXMTLyffKcsF7WoU8b5rOI=</td>\n",
              "      <td>15</td>\n",
              "      <td>26</td>\n",
              "      <td>4</td>\n",
              "      <td>20151020</td>\n",
              "    </tr>\n",
              "    <tr>\n",
              "      <th>6769471</th>\n",
              "      <td>XVlwT3fdCFGKqerEKBzUIjK+jzI6jzSke4cDMVhYyjE=</td>\n",
              "      <td>1</td>\n",
              "      <td>0</td>\n",
              "      <td>4</td>\n",
              "      <td>20151020</td>\n",
              "    </tr>\n",
              "    <tr>\n",
              "      <th>6769472</th>\n",
              "      <td>isBt+JlgvZRNy6lxVr5vvuJ4lD00ofTaKyJ+uRnGcPg=</td>\n",
              "      <td>1</td>\n",
              "      <td>0</td>\n",
              "      <td>4</td>\n",
              "      <td>20151021</td>\n",
              "    </tr>\n",
              "  </tbody>\n",
              "</table>\n",
              "<p>6769473 rows × 5 columns</p>\n",
              "</div>"
            ],
            "text/plain": [
              "                                                 msno  ...  registration_init_time\n",
              "0        Rb9UwLQTrxzBVwCB6+bCcSQWZ9JiNLC9dXtM1oEsZA8=  ...                20110911\n",
              "1        +tJonkh+O1CA796Fm5X60UMOtB6POHAwPjbTRVl/EuU=  ...                20110914\n",
              "2        cV358ssn7a0f7jZOwGNWS07wCKVqxyiImJUX6xcIwKw=  ...                20110915\n",
              "3        9bzDeJP6sQodK73K5CBlJ6fgIQzPeLnRl0p5B77XP+g=  ...                20110915\n",
              "4        WFLY3s7z4EZsieHCt63XrsdtfTEmJ+2PnnKLH5GY4Tk=  ...                20110915\n",
              "...                                               ...  ...                     ...\n",
              "6769468  VSGkb3hyBRUtb/b1MQUZbvOkktS3vKLnhMHW0CF8eyU=  ...                20151020\n",
              "6769469  nWjH7glPkZ7jOVaCRwwjlpmp0T1hSWdv8hMJxiWCwKc=  ...                20151020\n",
              "6769470  GH+b5+1tlv7ZZXsA8upBzVXMTLyffKcsF7WoU8b5rOI=  ...                20151020\n",
              "6769471  XVlwT3fdCFGKqerEKBzUIjK+jzI6jzSke4cDMVhYyjE=  ...                20151020\n",
              "6769472  isBt+JlgvZRNy6lxVr5vvuJ4lD00ofTaKyJ+uRnGcPg=  ...                20151021\n",
              "\n",
              "[6769473 rows x 5 columns]"
            ]
          },
          "metadata": {
            "tags": []
          },
          "execution_count": 4
        }
      ]
    },
    {
      "cell_type": "code",
      "metadata": {
        "id": "Be2hV0AH4e_u"
      },
      "source": [
        "# Feature extarction\n",
        "members['reg_month'] = members.registration_init_time.apply(lambda x : str(x)[-4:-2])\n",
        "members['reg_year'] = members.registration_init_time.apply(lambda x : str(x)[:4])"
      ],
      "execution_count": null,
      "outputs": []
    },
    {
      "cell_type": "code",
      "metadata": {
        "id": "eWc3sjvSghtb"
      },
      "source": [
        "# We made use of it\n",
        "members.drop('registration_init_time', axis=1, inplace=True)"
      ],
      "execution_count": null,
      "outputs": []
    },
    {
      "cell_type": "code",
      "metadata": {
        "id": "ZwF2PRCMgvgp"
      },
      "source": [
        "# Too many values to be informative\n",
        "transactions.drop('payment_method_id', axis=1, inplace=True)"
      ],
      "execution_count": null,
      "outputs": []
    },
    {
      "cell_type": "code",
      "metadata": {
        "id": "a3Q_W1r44hb3"
      },
      "source": [
        "# Adjust datatypes for memory efficiency\n",
        "import numpy as np\n",
        "def change_datatype(df):\n",
        "    int_cols = list(df.select_dtypes(include=['int']).columns)\n",
        "    for col in int_cols:\n",
        "        if ((np.max(df[col]) <= 127) and(np.min(df[col] >= -128))):\n",
        "            df[col] = df[col].astype(np.int8)\n",
        "        elif ((np.max(df[col]) <= 32767) and(np.min(df[col] >= -32768))):\n",
        "            df[col] = df[col].astype(np.int16)\n",
        "        elif ((np.max(df[col]) <= 2147483647) and(np.min(df[col] >= -2147483648))):\n",
        "            df[col] = df[col].astype(np.int32)\n",
        "        else:\n",
        "            df[col] = df[col].astype(np.int64)\n",
        "\n",
        "\n",
        "def change_datatype_float(df):\n",
        "    float_cols = list(df.select_dtypes(include=['float']).columns)\n",
        "    for col in float_cols:\n",
        "        df[col] = df[col].astype(np.float32)\n",
        "        \n",
        "change_datatype(members)\n",
        "change_datatype_float(members)\n",
        "# change_datatype(transactions)\n",
        "# change_datatype_float(transactions)"
      ],
      "execution_count": null,
      "outputs": []
    },
    {
      "cell_type": "code",
      "metadata": {
        "id": "GGw9w5Mf8L_6"
      },
      "source": [
        "# Merge datasets\n",
        "data = pd.merge(df_train, members, on='msno')"
      ],
      "execution_count": null,
      "outputs": []
    },
    {
      "cell_type": "code",
      "metadata": {
        "id": "B9bTovse9WxT"
      },
      "source": [
        "del members"
      ],
      "execution_count": null,
      "outputs": []
    },
    {
      "cell_type": "code",
      "metadata": {
        "id": "OaN6rKhX4jgN"
      },
      "source": [
        "# Feature engineering - general\n",
        "transactions['discount'] = transactions['plan_list_price'] - transactions['actual_amount_paid']\n",
        "transactions['is_discount'] = transactions.discount.apply(lambda x: 1 if x > 0 else 0)\n",
        "transactions['price_per_day'] = transactions['actual_amount_paid'] / transactions['payment_plan_days']\n",
        "transactions['membership_duration_left'] = transactions.membership_expire_date - transactions.transaction_date"
      ],
      "execution_count": null,
      "outputs": []
    },
    {
      "cell_type": "code",
      "metadata": {
        "id": "L0yWXBLhnla5"
      },
      "source": [
        "transactions['is_free_plan'] = (transactions.plan_list_price == 0).astype(int)"
      ],
      "execution_count": null,
      "outputs": []
    },
    {
      "cell_type": "code",
      "metadata": {
        "id": "8QaTE3hgn9yj",
        "colab": {
          "base_uri": "https://localhost:8080/",
          "height": 292
        },
        "outputId": "1129e06a-8b8c-4b93-b4e7-6eb8a0caf683"
      },
      "source": [
        "# There are some users with a free plan\n",
        "transactions['is_free_plan'].hist()"
      ],
      "execution_count": null,
      "outputs": [
        {
          "output_type": "execute_result",
          "data": {
            "text/plain": [
              "<matplotlib.axes._subplots.AxesSubplot at 0x7f92678bd198>"
            ]
          },
          "metadata": {
            "tags": []
          },
          "execution_count": 18
        },
        {
          "output_type": "display_data",
          "data": {
            "image/png": "[encoded data removed]",
            "text/plain": [
              "<Figure size 432x288 with 1 Axes>"
            ]
          },
          "metadata": {
            "tags": [],
            "needs_background": "light"
          }
        }
      ]
    },
    {
      "cell_type": "code",
      "metadata": {
        "id": "UbWSTpzglMUI"
      },
      "source": [
        "# aggregate historical transactions\n",
        "num_transactions = transactions.msno.value_counts()"
      ],
      "execution_count": null,
      "outputs": []
    },
    {
      "cell_type": "code",
      "metadata": {
        "id": "nDIRKZP2-QwJ"
      },
      "source": [
        "data = data.set_index('msno')"
      ],
      "execution_count": null,
      "outputs": []
    },
    {
      "cell_type": "code",
      "metadata": {
        "id": "L-d3_Et79odb"
      },
      "source": [
        "# Merge aggregated features\n",
        "data = data.join(num_transactions)\n",
        "data = data.rename({'msno': 'num_transactions'}, axis=1)"
      ],
      "execution_count": null,
      "outputs": []
    },
    {
      "cell_type": "code",
      "metadata": {
        "id": "8GOoN1Gs-Yql"
      },
      "source": [
        "total_amount_paid = transactions.groupby('msno').sum().actual_amount_paid\n",
        "data = data.join(total_amount_paid)\n",
        "data = data.rename({'actual_amount_paid': 'total_amount_paid'}, axis=1)"
      ],
      "execution_count": null,
      "outputs": []
    },
    {
      "cell_type": "code",
      "metadata": {
        "id": "UofKTLlonRM9"
      },
      "source": [
        "times_auto_renewed = transactions.groupby('msno').sum().is_auto_renew\n",
        "data = data.join(times_auto_renewed)\n",
        "data = data.rename({'is_auto_renew': 'times_auto_renew'}, axis=1)"
      ],
      "execution_count": null,
      "outputs": []
    },
    {
      "cell_type": "code",
      "metadata": {
        "id": "EmAtyJ5H-xXI"
      },
      "source": [
        "total_days = transactions.groupby('msno').sum().payment_plan_days\n",
        "data = data.join(total_days)\n",
        "data = data.rename({'payment_plan_days': 'total_days'}, axis=1)"
      ],
      "execution_count": null,
      "outputs": []
    },
    {
      "cell_type": "code",
      "metadata": {
        "id": "AUINHz3r_Rpr",
        "colab": {
          "base_uri": "https://localhost:8080/",
          "height": 457
        },
        "outputId": "3caeac0d-4228-445d-8108-56d827122fb9"
      },
      "source": [
        "data"
      ],
      "execution_count": null,
      "outputs": [
        {
          "output_type": "execute_result",
          "data": {
            "text/html": [
              "<div>\n",
              "<style scoped>\n",
              "    .dataframe tbody tr th:only-of-type {\n",
              "        vertical-align: middle;\n",
              "    }\n",
              "\n",
              "    .dataframe tbody tr th {\n",
              "        vertical-align: top;\n",
              "    }\n",
              "\n",
              "    .dataframe thead th {\n",
              "        text-align: right;\n",
              "    }\n",
              "</style>\n",
              "<table border=\"1\" class=\"dataframe\">\n",
              "  <thead>\n",
              "    <tr style=\"text-align: right;\">\n",
              "      <th></th>\n",
              "      <th>is_churn</th>\n",
              "      <th>city</th>\n",
              "      <th>bd</th>\n",
              "      <th>registered_via</th>\n",
              "      <th>reg_month</th>\n",
              "      <th>reg_year</th>\n",
              "      <th>num_transactions</th>\n",
              "      <th>total_amount_paid</th>\n",
              "      <th>times_auto_renew</th>\n",
              "      <th>total_days</th>\n",
              "      <th>average_price_per_day</th>\n",
              "    </tr>\n",
              "    <tr>\n",
              "      <th>msno</th>\n",
              "      <th></th>\n",
              "      <th></th>\n",
              "      <th></th>\n",
              "      <th></th>\n",
              "      <th></th>\n",
              "      <th></th>\n",
              "      <th></th>\n",
              "      <th></th>\n",
              "      <th></th>\n",
              "      <th></th>\n",
              "      <th></th>\n",
              "    </tr>\n",
              "  </thead>\n",
              "  <tbody>\n",
              "    <tr>\n",
              "      <th>waLDQMmcOu2jLDaV1ddDkgCrB/jl6sD66Xzs0Vqax1Y=</th>\n",
              "      <td>1</td>\n",
              "      <td>18</td>\n",
              "      <td>36</td>\n",
              "      <td>9</td>\n",
              "      <td>04</td>\n",
              "      <td>2005</td>\n",
              "      <td>2</td>\n",
              "      <td>149</td>\n",
              "      <td>0</td>\n",
              "      <td>37</td>\n",
              "      <td>4.966667</td>\n",
              "    </tr>\n",
              "    <tr>\n",
              "      <th>QA7uiXy8vIbUSPOkCf9RwQ3FsT8jVq2OxDr8zqa7bRQ=</th>\n",
              "      <td>1</td>\n",
              "      <td>10</td>\n",
              "      <td>38</td>\n",
              "      <td>9</td>\n",
              "      <td>04</td>\n",
              "      <td>2005</td>\n",
              "      <td>23</td>\n",
              "      <td>3458</td>\n",
              "      <td>22</td>\n",
              "      <td>663</td>\n",
              "      <td>109.819355</td>\n",
              "    </tr>\n",
              "    <tr>\n",
              "      <th>fGwBva6hikQmTJzrbz/2Ezjm5Cth5jZUNvXigKK2AFA=</th>\n",
              "      <td>1</td>\n",
              "      <td>11</td>\n",
              "      <td>27</td>\n",
              "      <td>9</td>\n",
              "      <td>10</td>\n",
              "      <td>2005</td>\n",
              "      <td>10</td>\n",
              "      <td>1492</td>\n",
              "      <td>8</td>\n",
              "      <td>300</td>\n",
              "      <td>49.733333</td>\n",
              "    </tr>\n",
              "    <tr>\n",
              "      <th>mT5V8rEpa+8wuqi6x0DoVd3H5icMKkE9Prt49UlmK+4=</th>\n",
              "      <td>1</td>\n",
              "      <td>13</td>\n",
              "      <td>23</td>\n",
              "      <td>9</td>\n",
              "      <td>11</td>\n",
              "      <td>2005</td>\n",
              "      <td>2</td>\n",
              "      <td>1788</td>\n",
              "      <td>0</td>\n",
              "      <td>820</td>\n",
              "      <td>4.360976</td>\n",
              "    </tr>\n",
              "    <tr>\n",
              "      <th>XaPhtGLk/5UvvOYHcONTwsnH97P4eGECeq+BARGItRw=</th>\n",
              "      <td>1</td>\n",
              "      <td>3</td>\n",
              "      <td>27</td>\n",
              "      <td>9</td>\n",
              "      <td>12</td>\n",
              "      <td>2005</td>\n",
              "      <td>8</td>\n",
              "      <td>3576</td>\n",
              "      <td>0</td>\n",
              "      <td>785</td>\n",
              "      <td>38.745591</td>\n",
              "    </tr>\n",
              "    <tr>\n",
              "      <th>...</th>\n",
              "      <td>...</td>\n",
              "      <td>...</td>\n",
              "      <td>...</td>\n",
              "      <td>...</td>\n",
              "      <td>...</td>\n",
              "      <td>...</td>\n",
              "      <td>...</td>\n",
              "      <td>...</td>\n",
              "      <td>...</td>\n",
              "      <td>...</td>\n",
              "      <td>...</td>\n",
              "    </tr>\n",
              "    <tr>\n",
              "      <th>AkluQxz947GHW4Y/kWWgocI04EjDNVQUZpes+5VmWek=</th>\n",
              "      <td>0</td>\n",
              "      <td>8</td>\n",
              "      <td>24</td>\n",
              "      <td>7</td>\n",
              "      <td>01</td>\n",
              "      <td>2017</td>\n",
              "      <td>2</td>\n",
              "      <td>258</td>\n",
              "      <td>2</td>\n",
              "      <td>60</td>\n",
              "      <td>8.600000</td>\n",
              "    </tr>\n",
              "    <tr>\n",
              "      <th>xC4Mahxw+X2H9E5gwE0Bb/c1NliMLT5yAca80U4Hck8=</th>\n",
              "      <td>0</td>\n",
              "      <td>1</td>\n",
              "      <td>0</td>\n",
              "      <td>7</td>\n",
              "      <td>01</td>\n",
              "      <td>2017</td>\n",
              "      <td>2</td>\n",
              "      <td>200</td>\n",
              "      <td>2</td>\n",
              "      <td>60</td>\n",
              "      <td>6.666667</td>\n",
              "    </tr>\n",
              "    <tr>\n",
              "      <th>tUM0yxAj50Vc35vQZ++xMlomdyeLJUW9lEcoPnt3H+g=</th>\n",
              "      <td>0</td>\n",
              "      <td>12</td>\n",
              "      <td>24</td>\n",
              "      <td>4</td>\n",
              "      <td>02</td>\n",
              "      <td>2017</td>\n",
              "      <td>2</td>\n",
              "      <td>298</td>\n",
              "      <td>2</td>\n",
              "      <td>60</td>\n",
              "      <td>9.933333</td>\n",
              "    </tr>\n",
              "    <tr>\n",
              "      <th>KQS8etmfGgvE/7Y9gK+E9wdLnRTI0lyyPXaXL3I8E4c=</th>\n",
              "      <td>0</td>\n",
              "      <td>15</td>\n",
              "      <td>17</td>\n",
              "      <td>4</td>\n",
              "      <td>02</td>\n",
              "      <td>2017</td>\n",
              "      <td>1</td>\n",
              "      <td>0</td>\n",
              "      <td>0</td>\n",
              "      <td>60</td>\n",
              "      <td>0.000000</td>\n",
              "    </tr>\n",
              "    <tr>\n",
              "      <th>iNV99F1Rml7EMndOeLI0Y/iek6aCj/Qp1Z4dZvR+sak=</th>\n",
              "      <td>0</td>\n",
              "      <td>1</td>\n",
              "      <td>0</td>\n",
              "      <td>7</td>\n",
              "      <td>02</td>\n",
              "      <td>2017</td>\n",
              "      <td>3</td>\n",
              "      <td>300</td>\n",
              "      <td>3</td>\n",
              "      <td>90</td>\n",
              "      <td>10.000000</td>\n",
              "    </tr>\n",
              "  </tbody>\n",
              "</table>\n",
              "<p>877161 rows × 11 columns</p>\n",
              "</div>"
            ],
            "text/plain": [
              "                                              is_churn  ...  average_price_per_day\n",
              "msno                                                    ...                       \n",
              "waLDQMmcOu2jLDaV1ddDkgCrB/jl6sD66Xzs0Vqax1Y=         1  ...               4.966667\n",
              "QA7uiXy8vIbUSPOkCf9RwQ3FsT8jVq2OxDr8zqa7bRQ=         1  ...             109.819355\n",
              "fGwBva6hikQmTJzrbz/2Ezjm5Cth5jZUNvXigKK2AFA=         1  ...              49.733333\n",
              "mT5V8rEpa+8wuqi6x0DoVd3H5icMKkE9Prt49UlmK+4=         1  ...               4.360976\n",
              "XaPhtGLk/5UvvOYHcONTwsnH97P4eGECeq+BARGItRw=         1  ...              38.745591\n",
              "...                                                ...  ...                    ...\n",
              "AkluQxz947GHW4Y/kWWgocI04EjDNVQUZpes+5VmWek=         0  ...               8.600000\n",
              "xC4Mahxw+X2H9E5gwE0Bb/c1NliMLT5yAca80U4Hck8=         0  ...               6.666667\n",
              "tUM0yxAj50Vc35vQZ++xMlomdyeLJUW9lEcoPnt3H+g=         0  ...               9.933333\n",
              "KQS8etmfGgvE/7Y9gK+E9wdLnRTI0lyyPXaXL3I8E4c=         0  ...               0.000000\n",
              "iNV99F1Rml7EMndOeLI0Y/iek6aCj/Qp1Z4dZvR+sak=         0  ...              10.000000\n",
              "\n",
              "[877161 rows x 11 columns]"
            ]
          },
          "metadata": {
            "tags": []
          },
          "execution_count": 34
        }
      ]
    },
    {
      "cell_type": "code",
      "metadata": {
        "id": "VWIThwX9-xSw"
      },
      "source": [
        "average_price_per_day = transactions.replace(np.inf, 0).groupby('msno').sum().price_per_day\n",
        "data = data.join(average_price_per_day)\n",
        "data = data.rename({'price_per_day': 'average_price_per_day'}, axis=1)"
      ],
      "execution_count": null,
      "outputs": []
    },
    {
      "cell_type": "code",
      "metadata": {
        "id": "b0L6TPi6p7oy"
      },
      "source": [
        "# Make use of the most recent transactions\n",
        "last_transactions = transactions.sort_values('transaction_date').drop_duplicates('msno', keep = 'last')"
      ],
      "execution_count": null,
      "outputs": []
    },
    {
      "cell_type": "code",
      "metadata": {
        "id": "j07EUZ2IAaga"
      },
      "source": [
        "del transactions"
      ],
      "execution_count": null,
      "outputs": []
    },
    {
      "cell_type": "code",
      "metadata": {
        "id": "iYQnkFZ3rotD"
      },
      "source": [
        "last_transactions.drop(['membership_expire_date', 'transaction_date'], axis=1, inplace=True)"
      ],
      "execution_count": null,
      "outputs": []
    },
    {
      "cell_type": "code",
      "metadata": {
        "id": "HwIzyqO34qvF"
      },
      "source": [
        "data = pd.merge(data, last_transactions, on='msno')"
      ],
      "execution_count": null,
      "outputs": []
    },
    {
      "cell_type": "code",
      "metadata": {
        "id": "Elj5IW6Szk51",
        "colab": {
          "base_uri": "https://localhost:8080/",
          "height": 427
        },
        "outputId": "ffc505f0-64f0-4540-e32a-636ed01568c1"
      },
      "source": [
        "data # Final data for modelling"
      ],
      "execution_count": null,
      "outputs": [
        {
          "output_type": "execute_result",
          "data": {
            "text/html": [
              "<div>\n",
              "<style scoped>\n",
              "    .dataframe tbody tr th:only-of-type {\n",
              "        vertical-align: middle;\n",
              "    }\n",
              "\n",
              "    .dataframe tbody tr th {\n",
              "        vertical-align: top;\n",
              "    }\n",
              "\n",
              "    .dataframe thead th {\n",
              "        text-align: right;\n",
              "    }\n",
              "</style>\n",
              "<table border=\"1\" class=\"dataframe\">\n",
              "  <thead>\n",
              "    <tr style=\"text-align: right;\">\n",
              "      <th></th>\n",
              "      <th>msno</th>\n",
              "      <th>is_churn</th>\n",
              "      <th>city</th>\n",
              "      <th>bd</th>\n",
              "      <th>registered_via</th>\n",
              "      <th>reg_month</th>\n",
              "      <th>reg_year</th>\n",
              "      <th>num_transactions</th>\n",
              "      <th>total_amount_paid</th>\n",
              "      <th>times_auto_renew</th>\n",
              "      <th>total_days</th>\n",
              "      <th>average_price_per_day</th>\n",
              "      <th>payment_plan_days</th>\n",
              "      <th>plan_list_price</th>\n",
              "      <th>actual_amount_paid</th>\n",
              "      <th>is_auto_renew</th>\n",
              "      <th>is_cancel</th>\n",
              "      <th>discount</th>\n",
              "      <th>is_discount</th>\n",
              "      <th>price_per_day</th>\n",
              "      <th>membership_duration_left</th>\n",
              "      <th>is_free_plan</th>\n",
              "    </tr>\n",
              "  </thead>\n",
              "  <tbody>\n",
              "    <tr>\n",
              "      <th>0</th>\n",
              "      <td>waLDQMmcOu2jLDaV1ddDkgCrB/jl6sD66Xzs0Vqax1Y=</td>\n",
              "      <td>1</td>\n",
              "      <td>18</td>\n",
              "      <td>36</td>\n",
              "      <td>9</td>\n",
              "      <td>04</td>\n",
              "      <td>2005</td>\n",
              "      <td>2</td>\n",
              "      <td>149</td>\n",
              "      <td>0</td>\n",
              "      <td>37</td>\n",
              "      <td>4.966667</td>\n",
              "      <td>30</td>\n",
              "      <td>149</td>\n",
              "      <td>149</td>\n",
              "      <td>0</td>\n",
              "      <td>0</td>\n",
              "      <td>0</td>\n",
              "      <td>0</td>\n",
              "      <td>4.966667</td>\n",
              "      <td>99</td>\n",
              "      <td>0</td>\n",
              "    </tr>\n",
              "    <tr>\n",
              "      <th>1</th>\n",
              "      <td>QA7uiXy8vIbUSPOkCf9RwQ3FsT8jVq2OxDr8zqa7bRQ=</td>\n",
              "      <td>1</td>\n",
              "      <td>10</td>\n",
              "      <td>38</td>\n",
              "      <td>9</td>\n",
              "      <td>04</td>\n",
              "      <td>2005</td>\n",
              "      <td>23</td>\n",
              "      <td>3458</td>\n",
              "      <td>22</td>\n",
              "      <td>663</td>\n",
              "      <td>109.819355</td>\n",
              "      <td>30</td>\n",
              "      <td>149</td>\n",
              "      <td>149</td>\n",
              "      <td>1</td>\n",
              "      <td>1</td>\n",
              "      <td>0</td>\n",
              "      <td>0</td>\n",
              "      <td>4.966667</td>\n",
              "      <td>97</td>\n",
              "      <td>0</td>\n",
              "    </tr>\n",
              "    <tr>\n",
              "      <th>2</th>\n",
              "      <td>fGwBva6hikQmTJzrbz/2Ezjm5Cth5jZUNvXigKK2AFA=</td>\n",
              "      <td>1</td>\n",
              "      <td>11</td>\n",
              "      <td>27</td>\n",
              "      <td>9</td>\n",
              "      <td>10</td>\n",
              "      <td>2005</td>\n",
              "      <td>10</td>\n",
              "      <td>1492</td>\n",
              "      <td>8</td>\n",
              "      <td>300</td>\n",
              "      <td>49.733333</td>\n",
              "      <td>30</td>\n",
              "      <td>149</td>\n",
              "      <td>149</td>\n",
              "      <td>1</td>\n",
              "      <td>1</td>\n",
              "      <td>0</td>\n",
              "      <td>0</td>\n",
              "      <td>4.966667</td>\n",
              "      <td>91</td>\n",
              "      <td>0</td>\n",
              "    </tr>\n",
              "    <tr>\n",
              "      <th>3</th>\n",
              "      <td>mT5V8rEpa+8wuqi6x0DoVd3H5icMKkE9Prt49UlmK+4=</td>\n",
              "      <td>1</td>\n",
              "      <td>13</td>\n",
              "      <td>23</td>\n",
              "      <td>9</td>\n",
              "      <td>11</td>\n",
              "      <td>2005</td>\n",
              "      <td>2</td>\n",
              "      <td>1788</td>\n",
              "      <td>0</td>\n",
              "      <td>820</td>\n",
              "      <td>4.360976</td>\n",
              "      <td>410</td>\n",
              "      <td>1788</td>\n",
              "      <td>1788</td>\n",
              "      <td>0</td>\n",
              "      <td>0</td>\n",
              "      <td>0</td>\n",
              "      <td>0</td>\n",
              "      <td>4.360976</td>\n",
              "      <td>10114</td>\n",
              "      <td>0</td>\n",
              "    </tr>\n",
              "    <tr>\n",
              "      <th>4</th>\n",
              "      <td>XaPhtGLk/5UvvOYHcONTwsnH97P4eGECeq+BARGItRw=</td>\n",
              "      <td>1</td>\n",
              "      <td>3</td>\n",
              "      <td>27</td>\n",
              "      <td>9</td>\n",
              "      <td>12</td>\n",
              "      <td>2005</td>\n",
              "      <td>8</td>\n",
              "      <td>3576</td>\n",
              "      <td>0</td>\n",
              "      <td>785</td>\n",
              "      <td>38.745591</td>\n",
              "      <td>30</td>\n",
              "      <td>149</td>\n",
              "      <td>149</td>\n",
              "      <td>0</td>\n",
              "      <td>0</td>\n",
              "      <td>0</td>\n",
              "      <td>0</td>\n",
              "      <td>4.966667</td>\n",
              "      <td>99</td>\n",
              "      <td>0</td>\n",
              "    </tr>\n",
              "    <tr>\n",
              "      <th>...</th>\n",
              "      <td>...</td>\n",
              "      <td>...</td>\n",
              "      <td>...</td>\n",
              "      <td>...</td>\n",
              "      <td>...</td>\n",
              "      <td>...</td>\n",
              "      <td>...</td>\n",
              "      <td>...</td>\n",
              "      <td>...</td>\n",
              "      <td>...</td>\n",
              "      <td>...</td>\n",
              "      <td>...</td>\n",
              "      <td>...</td>\n",
              "      <td>...</td>\n",
              "      <td>...</td>\n",
              "      <td>...</td>\n",
              "      <td>...</td>\n",
              "      <td>...</td>\n",
              "      <td>...</td>\n",
              "      <td>...</td>\n",
              "      <td>...</td>\n",
              "      <td>...</td>\n",
              "    </tr>\n",
              "    <tr>\n",
              "      <th>877156</th>\n",
              "      <td>AkluQxz947GHW4Y/kWWgocI04EjDNVQUZpes+5VmWek=</td>\n",
              "      <td>0</td>\n",
              "      <td>8</td>\n",
              "      <td>24</td>\n",
              "      <td>7</td>\n",
              "      <td>01</td>\n",
              "      <td>2017</td>\n",
              "      <td>2</td>\n",
              "      <td>258</td>\n",
              "      <td>2</td>\n",
              "      <td>60</td>\n",
              "      <td>8.600000</td>\n",
              "      <td>30</td>\n",
              "      <td>129</td>\n",
              "      <td>129</td>\n",
              "      <td>1</td>\n",
              "      <td>0</td>\n",
              "      <td>0</td>\n",
              "      <td>0</td>\n",
              "      <td>4.300000</td>\n",
              "      <td>103</td>\n",
              "      <td>0</td>\n",
              "    </tr>\n",
              "    <tr>\n",
              "      <th>877157</th>\n",
              "      <td>xC4Mahxw+X2H9E5gwE0Bb/c1NliMLT5yAca80U4Hck8=</td>\n",
              "      <td>0</td>\n",
              "      <td>1</td>\n",
              "      <td>0</td>\n",
              "      <td>7</td>\n",
              "      <td>01</td>\n",
              "      <td>2017</td>\n",
              "      <td>2</td>\n",
              "      <td>200</td>\n",
              "      <td>2</td>\n",
              "      <td>60</td>\n",
              "      <td>6.666667</td>\n",
              "      <td>30</td>\n",
              "      <td>100</td>\n",
              "      <td>100</td>\n",
              "      <td>1</td>\n",
              "      <td>0</td>\n",
              "      <td>0</td>\n",
              "      <td>0</td>\n",
              "      <td>3.333333</td>\n",
              "      <td>103</td>\n",
              "      <td>0</td>\n",
              "    </tr>\n",
              "    <tr>\n",
              "      <th>877158</th>\n",
              "      <td>tUM0yxAj50Vc35vQZ++xMlomdyeLJUW9lEcoPnt3H+g=</td>\n",
              "      <td>0</td>\n",
              "      <td>12</td>\n",
              "      <td>24</td>\n",
              "      <td>4</td>\n",
              "      <td>02</td>\n",
              "      <td>2017</td>\n",
              "      <td>2</td>\n",
              "      <td>298</td>\n",
              "      <td>2</td>\n",
              "      <td>60</td>\n",
              "      <td>9.933333</td>\n",
              "      <td>30</td>\n",
              "      <td>149</td>\n",
              "      <td>149</td>\n",
              "      <td>1</td>\n",
              "      <td>0</td>\n",
              "      <td>0</td>\n",
              "      <td>0</td>\n",
              "      <td>4.966667</td>\n",
              "      <td>103</td>\n",
              "      <td>0</td>\n",
              "    </tr>\n",
              "    <tr>\n",
              "      <th>877159</th>\n",
              "      <td>KQS8etmfGgvE/7Y9gK+E9wdLnRTI0lyyPXaXL3I8E4c=</td>\n",
              "      <td>0</td>\n",
              "      <td>15</td>\n",
              "      <td>17</td>\n",
              "      <td>4</td>\n",
              "      <td>02</td>\n",
              "      <td>2017</td>\n",
              "      <td>1</td>\n",
              "      <td>0</td>\n",
              "      <td>0</td>\n",
              "      <td>60</td>\n",
              "      <td>0.000000</td>\n",
              "      <td>60</td>\n",
              "      <td>0</td>\n",
              "      <td>0</td>\n",
              "      <td>0</td>\n",
              "      <td>0</td>\n",
              "      <td>0</td>\n",
              "      <td>0</td>\n",
              "      <td>0.000000</td>\n",
              "      <td>3</td>\n",
              "      <td>1</td>\n",
              "    </tr>\n",
              "    <tr>\n",
              "      <th>877160</th>\n",
              "      <td>iNV99F1Rml7EMndOeLI0Y/iek6aCj/Qp1Z4dZvR+sak=</td>\n",
              "      <td>0</td>\n",
              "      <td>1</td>\n",
              "      <td>0</td>\n",
              "      <td>7</td>\n",
              "      <td>02</td>\n",
              "      <td>2017</td>\n",
              "      <td>3</td>\n",
              "      <td>300</td>\n",
              "      <td>3</td>\n",
              "      <td>90</td>\n",
              "      <td>10.000000</td>\n",
              "      <td>30</td>\n",
              "      <td>100</td>\n",
              "      <td>100</td>\n",
              "      <td>1</td>\n",
              "      <td>0</td>\n",
              "      <td>0</td>\n",
              "      <td>0</td>\n",
              "      <td>3.333333</td>\n",
              "      <td>99</td>\n",
              "      <td>0</td>\n",
              "    </tr>\n",
              "  </tbody>\n",
              "</table>\n",
              "<p>877161 rows × 22 columns</p>\n",
              "</div>"
            ],
            "text/plain": [
              "                                                msno  ...  is_free_plan\n",
              "0       waLDQMmcOu2jLDaV1ddDkgCrB/jl6sD66Xzs0Vqax1Y=  ...             0\n",
              "1       QA7uiXy8vIbUSPOkCf9RwQ3FsT8jVq2OxDr8zqa7bRQ=  ...             0\n",
              "2       fGwBva6hikQmTJzrbz/2Ezjm5Cth5jZUNvXigKK2AFA=  ...             0\n",
              "3       mT5V8rEpa+8wuqi6x0DoVd3H5icMKkE9Prt49UlmK+4=  ...             0\n",
              "4       XaPhtGLk/5UvvOYHcONTwsnH97P4eGECeq+BARGItRw=  ...             0\n",
              "...                                              ...  ...           ...\n",
              "877156  AkluQxz947GHW4Y/kWWgocI04EjDNVQUZpes+5VmWek=  ...             0\n",
              "877157  xC4Mahxw+X2H9E5gwE0Bb/c1NliMLT5yAca80U4Hck8=  ...             0\n",
              "877158  tUM0yxAj50Vc35vQZ++xMlomdyeLJUW9lEcoPnt3H+g=  ...             0\n",
              "877159  KQS8etmfGgvE/7Y9gK+E9wdLnRTI0lyyPXaXL3I8E4c=  ...             1\n",
              "877160  iNV99F1Rml7EMndOeLI0Y/iek6aCj/Qp1Z4dZvR+sak=  ...             0\n",
              "\n",
              "[877161 rows x 22 columns]"
            ]
          },
          "metadata": {
            "tags": []
          },
          "execution_count": 39
        }
      ]
    },
    {
      "cell_type": "code",
      "metadata": {
        "id": "fyIHJLTh93db"
      },
      "source": [
        "data.drop(['city', 'bd'], axis=1, inplace=True)"
      ],
      "execution_count": null,
      "outputs": []
    },
    {
      "cell_type": "code",
      "metadata": {
        "id": "b73r2Nlb7JCL"
      },
      "source": [
        "from sklearn.model_selection import train_test_split\n",
        "data.replace(np.inf, 0, inplace=True)\n",
        "data.dropna(inplace=True)\n",
        "train, test = train_test_split(data, test_size=0.2)"
      ],
      "execution_count": null,
      "outputs": []
    },
    {
      "cell_type": "markdown",
      "metadata": {
        "id": "1JPTLnPQqaP1"
      },
      "source": [
        "## Modelling"
      ]
    },
    {
      "cell_type": "code",
      "metadata": {
        "id": "nM81_2qDDTTq"
      },
      "source": [
        "from sklearn.model_selection import RandomizedSearchCV\n",
        "# Number of trees in random forest\n",
        "n_estimators = [int(x) for x in np.linspace(start = 5, stop = 25, num = 10)]\n",
        "# Number of features to consider at every split\n",
        "max_features = ['auto', 'sqrt']\n",
        "# Maximum number of levels in tree\n",
        "max_depth = [int(x) for x in np.linspace(10, 110, num = 11)]\n",
        "max_depth.append(None)\n",
        "# Minimum number of samples required to split a node\n",
        "min_samples_split = [2, 5, 10]\n",
        "# Minimum number of samples required at each leaf node\n",
        "min_samples_leaf = [1, 2, 4]\n",
        "# Method of selecting samples for training each tree\n",
        "bootstrap = [True, False]\n",
        "# Create the random grid\n",
        "random_grid = {'n_estimators': n_estimators,\n",
        "               'max_features': max_features,\n",
        "               'max_depth': max_depth,\n",
        "               'min_samples_split': min_samples_split,\n",
        "               'min_samples_leaf': min_samples_leaf,\n",
        "               'bootstrap': bootstrap}"
      ],
      "execution_count": null,
      "outputs": []
    },
    {
      "cell_type": "code",
      "metadata": {
        "id": "mqG4gWw_F_0U",
        "colab": {
          "base_uri": "https://localhost:8080/",
          "height": 567
        },
        "outputId": "aa4a49d9-27d9-4b1e-bf89-d986e6d95305"
      },
      "source": [
        "rfcsearch = RandomForestClassifier()\n",
        "# Random search of parameters, using 3 fold cross validation, \n",
        "# search across 100 different combinations, and use all available cores\n",
        "rf_random = RandomizedSearchCV(estimator = rfcsearch, param_distributions = random_grid, n_iter = 100, cv = 3, verbose=2, random_state=42, n_jobs = -1)\n",
        "# Fit the random search model\n",
        "rf_random.fit(train.drop(['msno', 'is_churn'], axis=1), train.is_churn)"
      ],
      "execution_count": null,
      "outputs": [
        {
          "output_type": "stream",
          "text": [
            "Fitting 3 folds for each of 100 candidates, totalling 300 fits\n"
          ],
          "name": "stdout"
        },
        {
          "output_type": "stream",
          "text": [
            "[Parallel(n_jobs=-1)]: Using backend LokyBackend with 2 concurrent workers.\n",
            "[Parallel(n_jobs=-1)]: Done  37 tasks      | elapsed:  7.2min\n",
            "[Parallel(n_jobs=-1)]: Done 158 tasks      | elapsed: 32.9min\n",
            "[Parallel(n_jobs=-1)]: Done 300 out of 300 | elapsed: 62.2min finished\n"
          ],
          "name": "stderr"
        },
        {
          "output_type": "execute_result",
          "data": {
            "text/plain": [
              "RandomizedSearchCV(cv=3, error_score=nan,\n",
              "                   estimator=RandomForestClassifier(bootstrap=True,\n",
              "                                                    ccp_alpha=0.0,\n",
              "                                                    class_weight=None,\n",
              "                                                    criterion='gini',\n",
              "                                                    max_depth=None,\n",
              "                                                    max_features='auto',\n",
              "                                                    max_leaf_nodes=None,\n",
              "                                                    max_samples=None,\n",
              "                                                    min_impurity_decrease=0.0,\n",
              "                                                    min_impurity_split=None,\n",
              "                                                    min_samples_leaf=1,\n",
              "                                                    min_samples_split=2,\n",
              "                                                    min_weight_fraction_leaf=0.0,\n",
              "                                                    n_estimators=100,\n",
              "                                                    n_jobs...\n",
              "                   iid='deprecated', n_iter=100, n_jobs=-1,\n",
              "                   param_distributions={'bootstrap': [True, False],\n",
              "                                        'max_depth': [10, 20, 30, 40, 50, 60,\n",
              "                                                      70, 80, 90, 100, 110,\n",
              "                                                      None],\n",
              "                                        'max_features': ['auto', 'sqrt'],\n",
              "                                        'min_samples_leaf': [1, 2, 4],\n",
              "                                        'min_samples_split': [2, 5, 10],\n",
              "                                        'n_estimators': [5, 7, 9, 11, 13, 16,\n",
              "                                                         18, 20, 22, 25]},\n",
              "                   pre_dispatch='2*n_jobs', random_state=42, refit=True,\n",
              "                   return_train_score=False, scoring=None, verbose=2)"
            ]
          },
          "metadata": {
            "tags": []
          },
          "execution_count": 67
        }
      ]
    },
    {
      "cell_type": "code",
      "metadata": {
        "id": "cE7fPVuCGTvU",
        "colab": {
          "base_uri": "https://localhost:8080/",
          "height": 333
        },
        "outputId": "05555627-40c1-4001-b79b-00635128c471"
      },
      "source": [
        "rfcsearch.get_params()"
      ],
      "execution_count": null,
      "outputs": [
        {
          "output_type": "execute_result",
          "data": {
            "text/plain": [
              "{'bootstrap': True,\n",
              " 'ccp_alpha': 0.0,\n",
              " 'class_weight': None,\n",
              " 'criterion': 'gini',\n",
              " 'max_depth': None,\n",
              " 'max_features': 'auto',\n",
              " 'max_leaf_nodes': None,\n",
              " 'max_samples': None,\n",
              " 'min_impurity_decrease': 0.0,\n",
              " 'min_impurity_split': None,\n",
              " 'min_samples_leaf': 1,\n",
              " 'min_samples_split': 2,\n",
              " 'min_weight_fraction_leaf': 0.0,\n",
              " 'n_estimators': 100,\n",
              " 'n_jobs': None,\n",
              " 'oob_score': False,\n",
              " 'random_state': None,\n",
              " 'verbose': 0,\n",
              " 'warm_start': False}"
            ]
          },
          "metadata": {
            "tags": []
          },
          "execution_count": 68
        }
      ]
    },
    {
      "cell_type": "code",
      "metadata": {
        "id": "9YONMfItcK_d",
        "colab": {
          "base_uri": "https://localhost:8080/",
          "height": 117
        },
        "outputId": "f1d84ab8-7eb3-4df4-98e9-a4771174e769"
      },
      "source": [
        "rf_random.best_params_"
      ],
      "execution_count": null,
      "outputs": [
        {
          "output_type": "execute_result",
          "data": {
            "text/plain": [
              "{'bootstrap': True,\n",
              " 'max_depth': 90,\n",
              " 'max_features': 'sqrt',\n",
              " 'min_samples_leaf': 4,\n",
              " 'min_samples_split': 2,\n",
              " 'n_estimators': 22}"
            ]
          },
          "metadata": {
            "tags": []
          },
          "execution_count": 72
        }
      ]
    },
    {
      "cell_type": "code",
      "metadata": {
        "id": "Rs5A7P2-g3bS",
        "colab": {
          "base_uri": "https://localhost:8080/",
          "height": 150
        },
        "outputId": "4475c739-1d17-4efb-8431-24049738e455"
      },
      "source": [
        "rfcsearch = RandomForestClassifier(bootstrap = True,\n",
        "                                   max_depth = 90,\n",
        "                                   max_features= 'sqrt',\n",
        "                                   min_samples_leaf = 4,\n",
        "                                   min_samples_split= 2,\n",
        "                                   n_estimators= 22)\n",
        "\n",
        "rfcsearch.fit(train.drop(['msno', 'is_churn'], axis=1), train.is_churn)"
      ],
      "execution_count": null,
      "outputs": [
        {
          "output_type": "execute_result",
          "data": {
            "text/plain": [
              "RandomForestClassifier(bootstrap=True, ccp_alpha=0.0, class_weight=None,\n",
              "                       criterion='gini', max_depth=90, max_features='sqrt',\n",
              "                       max_leaf_nodes=None, max_samples=None,\n",
              "                       min_impurity_decrease=0.0, min_impurity_split=None,\n",
              "                       min_samples_leaf=4, min_samples_split=2,\n",
              "                       min_weight_fraction_leaf=0.0, n_estimators=22,\n",
              "                       n_jobs=None, oob_score=False, random_state=None,\n",
              "                       verbose=0, warm_start=False)"
            ]
          },
          "metadata": {
            "tags": []
          },
          "execution_count": 76
        }
      ]
    },
    {
      "cell_type": "code",
      "metadata": {
        "id": "aE3qWnpQn-qx",
        "colab": {
          "base_uri": "https://localhost:8080/",
          "height": 295
        },
        "outputId": "188ea897-8f83-4e03-bfe9-7590f3230001"
      },
      "source": [
        "importances = rfcsearch.feature_importances_\n",
        "indices = np.argsort(importances)\n",
        "\n",
        "plt.title('Feature Importances')\n",
        "plt.barh(range(len(indices)), importances[indices], color='b', align='center')\n",
        "plt.yticks(range(len(indices)), [features[i] for i in indices])\n",
        "plt.xlabel('Relative Importance')\n",
        "plt.show()"
      ],
      "execution_count": null,
      "outputs": [
        {
          "output_type": "display_data",
          "data": {
            "image/png": "[encoded data removed]",
            "text/plain": [
              "<Figure size 432x288 with 1 Axes>"
            ]
          },
          "metadata": {
            "tags": [],
            "needs_background": "light"
          }
        }
      ]
    },
    {
      "cell_type": "code",
      "metadata": {
        "id": "ptWY9c1mqZEE"
      },
      "source": [
        "estimator = rfcsearch.estimators_[5]\n",
        "# Visualize one tree\n",
        "from sklearn.tree import export_graphviz\n",
        "# Export as dot file\n",
        "export_graphviz(estimator, out_file='tree.dot', \n",
        "                feature_names = features[1:],\n",
        "                class_names = ['0', '1'],\n",
        "                rounded = True, proportion = False, \n",
        "                precision = 2, filled = True)\n",
        "\n",
        "# Convert to png using system command (requires Graphviz)\n",
        "from subprocess import call\n",
        "call(['dot', '-Tpng', 'tree.dot', '-o', 'tree.png', '-Gdpi=600'])\n",
        "\n",
        "# Display in jupyter notebook\n",
        "from IPython.display import Image\n",
        "Image(filename = 'tree.png')"
      ],
      "execution_count": null,
      "outputs": []
    },
    {
      "cell_type": "code",
      "metadata": {
        "id": "rb_XZ_TBrcZB",
        "colab": {
          "base_uri": "https://localhost:8080/",
          "height": 150
        },
        "outputId": "163b5f43-4e32-4343-a566-fa0abd75a33d"
      },
      "source": [
        "from sklearn.metrics import precision_score, recall_score, accuracy_score\n",
        "train_pred = rfcsearch.predict(train.drop(['msno', 'is_churn'], axis=1))\n",
        "test_pred = rfcsearch.predict(test.drop(['msno', 'is_churn'], axis=1))\n",
        "print('Train f1 score: ', f1_score(train.is_churn, train_pred))\n",
        "print('Test f1 score: ', f1_score(test.is_churn, test_pred))\n",
        "\n",
        "print('Train precision score: ', precision_score(train.is_churn, train_pred))\n",
        "print('Test precision score: ', precision_score(test.is_churn, test_pred))\n",
        "\n",
        "print('Train recall score: ', recall_score(train.is_churn, train_pred))\n",
        "print('Test recall score: ', recall_score(test.is_churn, test_pred))\n",
        "\n",
        "print('Train accuracy score: ', accuracy_score(train.is_churn, train_pred))\n",
        "print('Test accuracy score: ', accuracy_score(test.is_churn, test_pred))"
      ],
      "execution_count": null,
      "outputs": [
        {
          "output_type": "stream",
          "text": [
            "Train f1 score:  0.8330091401560311\n",
            "Test f1 score:  0.7366723189544645\n",
            "Train precision score:  0.8039037584271931\n",
            "Test precision score:  0.7066010790225326\n",
            "Train recall score:  0.8643012152777778\n",
            "Test recall score:  0.7694168466522678\n",
            "Train accuracy score:  0.9772447444023895\n",
            "Test accuracy score:  0.9637069422514578\n"
          ],
          "name": "stdout"
        }
      ]
    },
    {
      "cell_type": "code",
      "metadata": {
        "id": "81Q4TijerlkA"
      },
      "source": [
        "train_conf = cm(train.is_churn, train_pred)\n",
        "test_conf = cm(test.is_churn, test_pred)"
      ],
      "execution_count": null,
      "outputs": []
    },
    {
      "cell_type": "code",
      "metadata": {
        "id": "ftraE9HP1ZGq",
        "colab": {
          "base_uri": "https://localhost:8080/",
          "height": 50
        },
        "outputId": "95d778be-d2ff-4bac-d6c7-8d0ab7f78f0a"
      },
      "source": [
        "train_conf"
      ],
      "execution_count": null,
      "outputs": [
        {
          "output_type": "execute_result",
          "data": {
            "text/plain": [
              "array([[645933,   9715],\n",
              "       [  6253,  39827]])"
            ]
          },
          "metadata": {
            "tags": []
          },
          "execution_count": 92
        }
      ]
    },
    {
      "cell_type": "code",
      "metadata": {
        "id": "89mGWl6O1c2H",
        "colab": {
          "base_uri": "https://localhost:8080/",
          "height": 50
        },
        "outputId": "c76340b7-34a9-48d3-906f-75cee000d0b8"
      },
      "source": [
        "test_conf"
      ],
      "execution_count": null,
      "outputs": [
        {
          "output_type": "execute_result",
          "data": {
            "text/plain": [
              "array([[160160,   3698],\n",
              "       [  2669,   8906]])"
            ]
          },
          "metadata": {
            "tags": []
          },
          "execution_count": 93
        }
      ]
    },
    {
      "cell_type": "code",
      "metadata": {
        "id": "b_TYPkl-1zHP",
        "colab": {
          "base_uri": "https://localhost:8080/",
          "height": 295
        },
        "outputId": "0aa93ddb-b90e-453f-b6ac-2bb5a6183a53"
      },
      "source": [
        "import seaborn as sns\n",
        "import matplotlib.pyplot as plt     \n",
        "\n",
        "ax= plt.subplot()\n",
        "sns.heatmap([[160.160,   3.698],\n",
        "       [  2.669,   8.906]], annot=True, ax = ax); #annot=True to annotate cells\n",
        "\n",
        "# labels, title and ticks\n",
        "ax.set_xlabel('Predicted labels');ax.set_ylabel('True labels'); \n",
        "ax.set_title('Confusion Matrix'); \n",
        "ax.xaxis.set_ticklabels(['churn', 'stay']); ax.yaxis.set_ticklabels(['churn', 'stay']);\n"
      ],
      "execution_count": null,
      "outputs": [
        {
          "output_type": "display_data",
          "data": {
            "image/png": "[encoded data removed]",
            "text/plain": [
              "<Figure size 432x288 with 2 Axes>"
            ]
          },
          "metadata": {
            "tags": [],
            "needs_background": "light"
          }
        }
      ]
    },
    {
      "cell_type": "code",
      "metadata": {
        "id": "6tviq-PygbIW"
      },
      "source": [
        ""
      ],
      "execution_count": null,
      "outputs": []
    }
  ]
}